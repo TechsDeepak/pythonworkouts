{
 "cells": [
  {
   "cell_type": "code",
   "execution_count": 1,
   "id": "12a52be3-e485-4acd-9dc1-de160cd43f90",
   "metadata": {},
   "outputs": [
    {
     "name": "stdout",
     "output_type": "stream",
     "text": [
      "i am deepak\n"
     ]
    }
   ],
   "source": [
    "print(\"i am deepak\")"
   ]
  },
  {
   "cell_type": "code",
   "execution_count": 3,
   "id": "96d6d8df-6145-4be6-b6be-d1f98f881219",
   "metadata": {},
   "outputs": [
    {
     "data": {
      "text/plain": [
       "'3.12.7 | packaged by Anaconda, Inc. | (main, Oct  4 2024, 13:17:27) [MSC v.1929 64 bit (AMD64)]'"
      ]
     },
     "execution_count": 3,
     "metadata": {},
     "output_type": "execute_result"
    }
   ],
   "source": [
    "import sys \n",
    "sys.version "
   ]
  },
  {
   "cell_type": "code",
   "execution_count": 5,
   "id": "20c1bbb1-35e5-4b1e-bbbb-982e1e3f110e",
   "metadata": {},
   "outputs": [
    {
     "name": "stdout",
     "output_type": "stream",
     "text": [
      "apple\n"
     ]
    }
   ],
   "source": [
    "#single lline comments \n",
    "fruit=\"apple\"\n",
    "print(fruit)"
   ]
  },
  {
   "cell_type": "code",
   "execution_count": 7,
   "id": "b9548903-869f-4f7e-a5cd-7f10ecf21be3",
   "metadata": {},
   "outputs": [
    {
     "data": {
      "text/plain": [
       "' a=10\\n    b=20\\n    print(a+b) '"
      ]
     },
     "execution_count": 7,
     "metadata": {},
     "output_type": "execute_result"
    }
   ],
   "source": [
    "#multi line comments \n",
    "''' a=10\n",
    "    b=20\n",
    "    print(a+b) '''\n"
   ]
  },
  {
   "cell_type": "code",
   "execution_count": 9,
   "id": "070475eb-cb8b-43b6-ada4-afe74506bb86",
   "metadata": {},
   "outputs": [],
   "source": [
    "#legall variable name \n",
    "Fruit=\"apple\"\n",
    "frUit=\"banana\"\n",
    "Fru_it=\"mango\"\n",
    "fruit2=\"watermelon\""
   ]
  },
  {
   "cell_type": "code",
   "execution_count": 11,
   "id": "e7df6b80-0336-4ad9-b6bb-518efbe1a0d3",
   "metadata": {},
   "outputs": [
    {
     "ename": "SyntaxError",
     "evalue": "invalid decimal literal (1283102604.py, line 2)",
     "output_type": "error",
     "traceback": [
      "\u001b[1;36m  Cell \u001b[1;32mIn[11], line 2\u001b[1;36m\u001b[0m\n\u001b[1;33m    1fruit=\"apple\"\u001b[0m\n\u001b[1;37m    ^\u001b[0m\n\u001b[1;31mSyntaxError\u001b[0m\u001b[1;31m:\u001b[0m invalid decimal literal\n"
     ]
    }
   ],
   "source": [
    "#illegal variable name \n",
    "1fruit=\"apple\"\n",
    "fru-it=\"mango\"\n"
   ]
  },
  {
   "cell_type": "code",
   "execution_count": 13,
   "id": "c14b352e-df03-4730-b723-299b4c02afc1",
   "metadata": {},
   "outputs": [
    {
     "data": {
      "text/plain": [
       "'two'"
      ]
     },
     "execution_count": 13,
     "metadata": {},
     "output_type": "execute_result"
    }
   ],
   "source": [
    "#assign multiple values \n",
    "k,l,m=\"one\",\"two\",\"three\"\n",
    "l"
   ]
  },
  {
   "cell_type": "code",
   "execution_count": 15,
   "id": "999de8b1-fb59-4573-8070-0fc09aa6d26b",
   "metadata": {},
   "outputs": [
    {
     "data": {
      "text/plain": [
       "'three'"
      ]
     },
     "execution_count": 15,
     "metadata": {},
     "output_type": "execute_result"
    }
   ],
   "source": [
    "m"
   ]
  },
  {
   "cell_type": "code",
   "execution_count": null,
   "id": "7e481c3d-6225-4d2a-b4c6-0010eaf0ef77",
   "metadata": {},
   "outputs": [],
   "source": [
    "#static value \n",
    "year=2025\n",
    "pri"
   ]
  }
 ],
 "metadata": {
  "kernelspec": {
   "display_name": "Python [conda env:base] *",
   "language": "python",
   "name": "conda-base-py"
  },
  "language_info": {
   "codemirror_mode": {
    "name": "ipython",
    "version": 3
   },
   "file_extension": ".py",
   "mimetype": "text/x-python",
   "name": "python",
   "nbconvert_exporter": "python",
   "pygments_lexer": "ipython3",
   "version": "3.12.7"
  }
 },
 "nbformat": 4,
 "nbformat_minor": 5
}
