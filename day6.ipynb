{
 "cells": [
  {
   "cell_type": "code",
   "execution_count": 3,
   "id": "ada4e121-489a-450b-840e-cad2cbf33969",
   "metadata": {},
   "outputs": [
    {
     "name": "stdout",
     "output_type": "stream",
     "text": [
      "[22, 33, 55, 66, 67]\n"
     ]
    }
   ],
   "source": [
    "#list append \n",
    "a= [22,33,55,66]\n",
    "a.append(67)\n",
    "print(a)"
   ]
  },
  {
   "cell_type": "code",
   "execution_count": 5,
   "id": "ce7c0a1c-3615-4950-83aa-0bf18f56e699",
   "metadata": {},
   "outputs": [
    {
     "name": "stdout",
     "output_type": "stream",
     "text": [
      "[55, 22, 33, 44, 33, 88, 77, 99]\n"
     ]
    }
   ],
   "source": [
    "#list extend \n",
    "a=[55,22,33,44]\n",
    "a2=[33,88,77,99]\n",
    "\n",
    "a.extend(a2)\n",
    "print(a)"
   ]
  },
  {
   "cell_type": "code",
   "execution_count": 7,
   "id": "230e1015-afa4-4d1d-937a-4f2273d6c882",
   "metadata": {},
   "outputs": [
    {
     "name": "stdout",
     "output_type": "stream",
     "text": [
      "['bread', 'egg']\n"
     ]
    }
   ],
   "source": [
    "#list element remove \n",
    "a= [\"milk\", \"bread\", \"egg\"]\n",
    "a.remove(\"milk\")\n",
    "print(a)"
   ]
  },
  {
   "cell_type": "code",
   "execution_count": 9,
   "id": "f33f1aba-c970-42a2-a0b6-91eac1a6ff3c",
   "metadata": {},
   "outputs": [
    {
     "name": "stdout",
     "output_type": "stream",
     "text": [
      "['milk', 'bread']\n"
     ]
    }
   ],
   "source": [
    "#list pop\n",
    "a= [\"milk\", \"bread\", \"egg\"]\n",
    "a.pop()\n",
    "print(a)"
   ]
  },
  {
   "cell_type": "code",
   "execution_count": 11,
   "id": "bea5f255-b197-415d-9e3a-4a8994ec1be3",
   "metadata": {},
   "outputs": [
    {
     "data": {
      "text/plain": [
       "{10, 20, 30, 40, 60, False, True, 'bread', 'jam', 'milk'}"
      ]
     },
     "execution_count": 11,
     "metadata": {},
     "output_type": "execute_result"
    }
   ],
   "source": [
    "#set operations\n",
    "b = {\"milk\", \"bread\", \"jam\", False, True, 10,20,30,40,60}\n",
    "b"
   ]
  },
  {
   "cell_type": "code",
   "execution_count": 17,
   "id": "aef3670e-c5f9-4ee0-8282-38c1593b8ff4",
   "metadata": {},
   "outputs": [
    {
     "name": "stdout",
     "output_type": "stream",
     "text": [
      "{'jam', True, False, 40, 'bread', 10, 'milk', 15, 20, 60, 30}\n"
     ]
    }
   ],
   "source": [
    "#add element in the set \n",
    "b.add(15)\n",
    "print(b)"
   ]
  },
  {
   "cell_type": "code",
   "execution_count": 19,
   "id": "4c4fd1f2-6d9d-436d-b43e-c6bda8758982",
   "metadata": {},
   "outputs": [
    {
     "name": "stdout",
     "output_type": "stream",
     "text": [
      "{'jam', True, False, 40, 'bread', 10, 'milk', 20, 60, 30}\n"
     ]
    }
   ],
   "source": [
    "#remove particular element in set \n",
    "b.remove(15)\n",
    "print(b)"
   ]
  },
  {
   "cell_type": "code",
   "execution_count": 23,
   "id": "39e83bd0-11ef-42fc-ba7d-083f6f20fccd",
   "metadata": {},
   "outputs": [
    {
     "name": "stdout",
     "output_type": "stream",
     "text": [
      "{'jam', True, False, 40, 'bread', 'milk', 20, 60, 30}\n"
     ]
    }
   ],
   "source": [
    "#removing the element in the set using discard \n",
    "b.discard(10)\n",
    "print(b)"
   ]
  },
  {
   "cell_type": "code",
   "execution_count": 29,
   "id": "493aed5e-34fc-4958-89ec-53b90cfd3cd1",
   "metadata": {},
   "outputs": [
    {
     "name": "stdout",
     "output_type": "stream",
     "text": [
      "{40, 'bread', 'milk', 20, 60, 30}\n"
     ]
    }
   ],
   "source": [
    "#removing a element using pop\n",
    "b.pop()\n",
    "print(b)"
   ]
  },
  {
   "cell_type": "code",
   "execution_count": null,
   "id": "10094965-5032-4090-ba18-92f19ad4ec39",
   "metadata": {},
   "outputs": [],
   "source": []
  }
 ],
 "metadata": {
  "kernelspec": {
   "display_name": "Python [conda env:base] *",
   "language": "python",
   "name": "conda-base-py"
  },
  "language_info": {
   "codemirror_mode": {
    "name": "ipython",
    "version": 3
   },
   "file_extension": ".py",
   "mimetype": "text/x-python",
   "name": "python",
   "nbconvert_exporter": "python",
   "pygments_lexer": "ipython3",
   "version": "3.12.7"
  }
 },
 "nbformat": 4,
 "nbformat_minor": 5
}
