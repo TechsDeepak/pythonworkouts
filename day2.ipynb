{
 "cells": [
  {
   "cell_type": "code",
   "execution_count": 2,
   "id": "a7f0075b-4398-402f-b815-f4fb12de5a91",
   "metadata": {},
   "outputs": [
    {
     "name": "stdout",
     "output_type": "stream",
     "text": [
      "10.0\n",
      "(10+0j)\n",
      "10\n",
      "<class 'float'>\n",
      "<class 'complex'>\n",
      "<class 'str'>\n"
     ]
    }
   ],
   "source": [
    "#integer type casting \n",
    "k1=10\n",
    "k2=float(k1)\n",
    "k3=complex(k1)\n",
    "k4=str(k1)\n",
    "print(k2)\n",
    "print(k3)\n",
    "print(k4)\n",
    "print(type(k2))\n",
    "print(type(k3))\n",
    "print(type(k4))\n"
   ]
  },
  {
   "cell_type": "code",
   "execution_count": 4,
   "id": "303d82cf-77a3-40e4-bdd6-bccfbdcf60d1",
   "metadata": {},
   "outputs": [
    {
     "name": "stdout",
     "output_type": "stream",
     "text": [
      "10.0\n",
      "(10+0j)\n",
      "10\n",
      "<class 'float'>\n",
      "<class 'complex'>\n",
      "<class 'int'>\n"
     ]
    }
   ],
   "source": [
    "#string type casting in this we cannot convert the letters to another data type \n",
    "n1=\"10\"\n",
    "n2=float(n1)\n",
    "n3=complex(n1)\n",
    "n4=int(n1)\n",
    "print(n2)\n",
    "print(n3)\n",
    "print(n4)\n",
    "print(type(n2))\n",
    "print(type(n3))\n",
    "print(type(n4))\n"
   ]
  },
  {
   "cell_type": "code",
   "execution_count": 8,
   "id": "08600129-1341-461c-b09e-c7ed1809b689",
   "metadata": {},
   "outputs": [
    {
     "name": "stdout",
     "output_type": "stream",
     "text": [
      "10.4\n",
      "(10.4+0j)\n",
      "10\n",
      "<class 'str'>\n",
      "<class 'complex'>\n",
      "<class 'int'>\n"
     ]
    }
   ],
   "source": [
    "# float type casting \n",
    "m1=10.4\n",
    "p2=str(m1)\n",
    "p3=complex(m1)\n",
    "p4=int(m1)\n",
    "print(p2)\n",
    "print(p3)\n",
    "print(p4)\n",
    "print(type(p2))\n",
    "print(type(p3))\n",
    "print(type(p4))"
   ]
  },
  {
   "cell_type": "code",
   "execution_count": null,
   "id": "a05bc74d-1d13-435e-8626-050188a8e31e",
   "metadata": {},
   "outputs": [],
   "source": [
    "#complex type casting we cannot convert them to another type because it is having imag"
   ]
  }
 ],
 "metadata": {
  "kernelspec": {
   "display_name": "Python [conda env:base] *",
   "language": "python",
   "name": "conda-base-py"
  },
  "language_info": {
   "codemirror_mode": {
    "name": "ipython",
    "version": 3
   },
   "file_extension": ".py",
   "mimetype": "text/x-python",
   "name": "python",
   "nbconvert_exporter": "python",
   "pygments_lexer": "ipython3",
   "version": "3.12.7"
  }
 },
 "nbformat": 4,
 "nbformat_minor": 5
}
